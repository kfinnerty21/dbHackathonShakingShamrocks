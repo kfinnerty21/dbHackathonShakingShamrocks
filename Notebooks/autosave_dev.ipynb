{
 "cells": [
  {
   "cell_type": "code",
   "execution_count": 99,
   "id": "increasing-prototype",
   "metadata": {},
   "outputs": [],
   "source": [
    "import pandas as pd\n",
    "import sklearn\n",
    "import datetime\n",
    "import numpy as np\n"
   ]
  },
  {
   "cell_type": "markdown",
   "id": "related-reputation",
   "metadata": {},
   "source": [
    "Using mock_df as historical data that will be used to determine candidates for auto-save recommendations"
   ]
  },
  {
   "cell_type": "code",
   "execution_count": 100,
   "id": "exempt-short",
   "metadata": {},
   "outputs": [],
   "source": [
    "cols = ['type','date','time','amount','balance','other_party']"
   ]
  },
  {
   "cell_type": "code",
   "execution_count": 241,
   "id": "another-essay",
   "metadata": {},
   "outputs": [],
   "source": [
    "mock_data = [\n",
    "    ['regular','2020-01-05','14:25','-200.00','5470.00','ESB'],\n",
    "    ['regular','2020-01-07','10:36','-30.00','5270.00','Pharmacy'],\n",
    "    ['irregular','2020-01-08','12:17','-98.46','5240.00','Tesco'],\n",
    "    ['regular','2020-01-12','10:23','-1200.00','4040.00','Rent'],\n",
    "    ['irregular','2020-01-13','11:30','-67.42','3972.58','Tesco'],\n",
    "    ['regular','2020-01-14','09:47','-30.00','3942.58','Pharmacy'],\n",
    "    ['discretionary','2020-01-15','09:43','-3.45','3939.13','Starbucks'],\n",
    "    ['regular','2020-01-16','07:43','-49.99','3889.14','Vodafone'],\n",
    "    ['discretionary','2020-01-18','10:43','-5.44','3883.70','Starbucks'],\n",
    "    ['irregular','2020-01-20','18:47','-78.65','3805.05','Tesco'],\n",
    "    ['regular','2020-01-21','09:36','-30.00','3775.05','Pharmacy'],\n",
    "    ['regular','2020-01-22','12:00','-100.00','3675.05','Dr Zeuss'],\n",
    "    ['discretionary','2020-01-23','02:54','-250.00','3425.05','Amazon'],\n",
    "    ['discretionary','2020-01-23','03:01','-175.00','3250.05','Amazon',],\n",
    "    ['irregular','2020-01-27','13:58','-102.47','3147.58','Tesco'],\n",
    "    ['regular','2020-01-28','09:00','+2500.00','5647.58','ACME Corp.'],\n",
    "    ['regular','2020-01-28','10:14','-30.00','5617.58','Pharmacy'],\n",
    "    ['discretionary','2020-02-02','09:14','-3.57','5614.01','Starbucks'],\n",
    "    ['regular','2020-02-05','14:25','-200.00','5414.01','ESB'],\n",
    "    ['irregular','2020-02-06','15:47','-74.68','5339.33','Tesco'],\n",
    "    ['discretionary','2020-02-07','10:20','-4.34','5334.99','Starbucks'],\n",
    "    ['regular','2020-02-07','10:34','-30.00','5304.99','Pharmacy'],\n",
    "    ['regular','2020-02-12','10:14','-1200.00','4104.99','Rent'],\n",
    "    ['discretionary','2020-02-12','11:55','-3.75','4101.24','Starbucks'],\n",
    "    ['irregular','2020-02-12','12:14','-100.27','4000.97','Tesco'],\n",
    "    ['regular','2020-02-14','09:45','-30.00','3970.97','Pharmacy'],\n",
    "    ['regular','2020-02-16','07:43','-49.99','3920.98','Vodafone'],\n",
    "    ['irregular','2020-02-20','11:41','-88.34','3832.64','Tesco'],\n",
    "    ['discretionary','2020-02-20','20:15','-45.36','3787.28','Amazon'],\n",
    "    ['regular','2020-02-21','08:57','-30.00','3757.28','Pharmacy'],\n",
    "    ['discretionary','2020-02-21','09:15','-3.75','3753.53','Starbucks'],\n",
    "    ['irregular','2020-02-27','18:24','-95.45','3658.08','Tesco'],\n",
    "    ['regular','2020-02-28','10:46','-30.00','3628.08','Pharmacy'],\n",
    "    ['regular','2020-02-28','09:00','+2500.00','6128.08','ACME Corp.'],\n",
    "    ['irregular','2020-03-01','19:01','-120.78','6007.03','Tesco'],\n",
    "    ['discretionary','2020-03-03','09:14','-3.75','6003.55','Starbucks'],\n",
    "    ['regular','2020-03-05','14:25','-200.00','5803.55','ESB'],\n",
    "    ['regular','2020-03-07','10:12','-30.00','5773.55','Pharmacy'],\n",
    "    ['discretionary','2020-03-07','10:25','-3.75','5769.80','Starbucks'],\n",
    "    ['irregular','2020-03-08','18:31','-87.32','5682.48','Tesco'],\n",
    "    ['regular','2020-03-12','10:10','-1200.00','4482.48','Rent'],\n",
    "    ['regular','2020-03-14','09:45','-30.00','4452.48','Pharmacy'],\n",
    "    ['regular','2020-03-16','07:43','-49.99','4402.49','Vodafone'],\n",
    "    ['irregular','2020-03-21','09:31','-58.69','4343.80','Tesco'],\n",
    "    ['discretionary','2020-03-21','09:57','-4.99','4338.81','Starbucks'],\n",
    "    ['regular','2020-03-21','10:58','-30.00','4308.81','Pharmacy'],\n",
    "    ['irregular','2020-03-25','18:42','-96.12','4212.69','Tesco'],\n",
    "    ['regular','2020-03-28','10:13','-30.00','4182.69','Pharmacy'],\n",
    "    ['regular','2020-03-28','09:00','+2500.00','6682.69','ACME Corp.'],\n",
    "    ['discretionary','2020-03-28','10:15','-1534.47','5148.22','Amazon'],\n",
    "    ['discretionary','2020-03-28','10:57','-799.99','4348.23','Asos'],\n",
    "    ['regular','2020-03-29','14:00','-100.00','4248.23','Dr Zeuss']\n",
    "]\n"
   ]
  },
  {
   "cell_type": "code",
   "execution_count": 242,
   "id": "ecological-proposal",
   "metadata": {},
   "outputs": [],
   "source": [
    "mock_df = pd.DataFrame(mock_data, columns = cols)"
   ]
  },
  {
   "cell_type": "code",
   "execution_count": 5,
   "id": "existing-remedy",
   "metadata": {},
   "outputs": [
    {
     "data": {
      "text/plain": [
       "(51, 6)"
      ]
     },
     "execution_count": 5,
     "metadata": {},
     "output_type": "execute_result"
    }
   ],
   "source": [
    "mock_df.shape"
   ]
  },
  {
   "cell_type": "code",
   "execution_count": 6,
   "id": "secret-light",
   "metadata": {},
   "outputs": [
    {
     "data": {
      "text/html": [
       "<div>\n",
       "<style scoped>\n",
       "    .dataframe tbody tr th:only-of-type {\n",
       "        vertical-align: middle;\n",
       "    }\n",
       "\n",
       "    .dataframe tbody tr th {\n",
       "        vertical-align: top;\n",
       "    }\n",
       "\n",
       "    .dataframe thead th {\n",
       "        text-align: right;\n",
       "    }\n",
       "</style>\n",
       "<table border=\"1\" class=\"dataframe\">\n",
       "  <thead>\n",
       "    <tr style=\"text-align: right;\">\n",
       "      <th></th>\n",
       "      <th>type</th>\n",
       "      <th>date</th>\n",
       "      <th>time</th>\n",
       "      <th>amount</th>\n",
       "      <th>balance</th>\n",
       "      <th>other_party</th>\n",
       "    </tr>\n",
       "  </thead>\n",
       "  <tbody>\n",
       "    <tr>\n",
       "      <th>0</th>\n",
       "      <td>regular</td>\n",
       "      <td>2020-01-05</td>\n",
       "      <td>14:25</td>\n",
       "      <td>-200.00</td>\n",
       "      <td>5470.00</td>\n",
       "      <td>ESB</td>\n",
       "    </tr>\n",
       "    <tr>\n",
       "      <th>1</th>\n",
       "      <td>regular</td>\n",
       "      <td>2020-01-07</td>\n",
       "      <td>10:36</td>\n",
       "      <td>-30.00</td>\n",
       "      <td>5270.00</td>\n",
       "      <td>Pharmacy</td>\n",
       "    </tr>\n",
       "    <tr>\n",
       "      <th>2</th>\n",
       "      <td>irregular</td>\n",
       "      <td>2020-01-08</td>\n",
       "      <td>12:17</td>\n",
       "      <td>-98.46</td>\n",
       "      <td>5240.00</td>\n",
       "      <td>Tesco</td>\n",
       "    </tr>\n",
       "    <tr>\n",
       "      <th>3</th>\n",
       "      <td>regular</td>\n",
       "      <td>2020-01-12</td>\n",
       "      <td>10:23</td>\n",
       "      <td>-1200.00</td>\n",
       "      <td>4040.00</td>\n",
       "      <td>Rent</td>\n",
       "    </tr>\n",
       "    <tr>\n",
       "      <th>4</th>\n",
       "      <td>irregular</td>\n",
       "      <td>2020-01-13</td>\n",
       "      <td>11:30</td>\n",
       "      <td>-67.42</td>\n",
       "      <td>3972.58</td>\n",
       "      <td>Tesco</td>\n",
       "    </tr>\n",
       "  </tbody>\n",
       "</table>\n",
       "</div>"
      ],
      "text/plain": [
       "        type        date   time    amount  balance other_party\n",
       "0    regular  2020-01-05  14:25   -200.00  5470.00         ESB\n",
       "1    regular  2020-01-07  10:36    -30.00  5270.00    Pharmacy\n",
       "2  irregular  2020-01-08  12:17    -98.46  5240.00       Tesco\n",
       "3    regular  2020-01-12  10:23  -1200.00  4040.00        Rent\n",
       "4  irregular  2020-01-13  11:30    -67.42  3972.58       Tesco"
      ]
     },
     "execution_count": 6,
     "metadata": {},
     "output_type": "execute_result"
    }
   ],
   "source": [
    "mock_df.head()"
   ]
  },
  {
   "cell_type": "code",
   "execution_count": 7,
   "id": "divided-marine",
   "metadata": {},
   "outputs": [
    {
     "data": {
      "text/plain": [
       "regular          25\n",
       "discretionary    14\n",
       "irregular        12\n",
       "Name: type, dtype: int64"
      ]
     },
     "execution_count": 7,
     "metadata": {},
     "output_type": "execute_result"
    }
   ],
   "source": [
    "mock_df['type'].value_counts()"
   ]
  },
  {
   "cell_type": "code",
   "execution_count": 18,
   "id": "iraqi-barcelona",
   "metadata": {},
   "outputs": [],
   "source": [
    "mock_df['amount'] = mock_df['amount'].apply(lambda x: float(x))"
   ]
  },
  {
   "cell_type": "code",
   "execution_count": 20,
   "id": "frequent-distribution",
   "metadata": {},
   "outputs": [
    {
     "data": {
      "text/plain": [
       "-1220.23"
      ]
     },
     "execution_count": 20,
     "metadata": {},
     "output_type": "execute_result"
    }
   ],
   "source": [
    "mock_df['amount'].sum()"
   ]
  },
  {
   "cell_type": "code",
   "execution_count": 26,
   "id": "hairy-ultimate",
   "metadata": {},
   "outputs": [
    {
     "data": {
      "text/plain": [
       "24"
      ]
     },
     "execution_count": 26,
     "metadata": {},
     "output_type": "execute_result"
    }
   ],
   "source": [
    "r = [[1],[4],[-10],[29]]\n",
    "test = pd.DataFrame(r,columns = ['num'])\n",
    "test['num'].sum()\n"
   ]
  },
  {
   "cell_type": "code",
   "execution_count": 8,
   "id": "missing-approach",
   "metadata": {},
   "outputs": [],
   "source": [
    "x = mock_df['type'].value_counts()"
   ]
  },
  {
   "cell_type": "code",
   "execution_count": 9,
   "id": "purple-advertising",
   "metadata": {},
   "outputs": [
    {
     "data": {
      "text/plain": [
       "pandas.core.series.Series"
      ]
     },
     "execution_count": 9,
     "metadata": {},
     "output_type": "execute_result"
    }
   ],
   "source": [
    "type(x)"
   ]
  },
  {
   "cell_type": "code",
   "execution_count": 12,
   "id": "short-shaft",
   "metadata": {},
   "outputs": [
    {
     "data": {
      "text/plain": [
       "[25, 14, 12]"
      ]
     },
     "execution_count": 12,
     "metadata": {},
     "output_type": "execute_result"
    }
   ],
   "source": [
    "list(x)"
   ]
  },
  {
   "cell_type": "code",
   "execution_count": 14,
   "id": "hazardous-script",
   "metadata": {},
   "outputs": [
    {
     "data": {
      "text/plain": [
       "[12, 14, 25]"
      ]
     },
     "execution_count": 14,
     "metadata": {},
     "output_type": "execute_result"
    }
   ],
   "source": [
    "sorted(list(mock_df['type'].value_counts()))"
   ]
  },
  {
   "cell_type": "code",
   "execution_count": 239,
   "id": "beneficial-tunisia",
   "metadata": {},
   "outputs": [],
   "source": [
    "def reg_pay(df):\n",
    "    df['datetime'] = df['date'] + \" \"+ df['time']\n",
    "    df['datetime'] = df['datetime'].apply(lambda x: datetime.datetime.strptime(x, '%Y-%m-%d %H:%M'))\n",
    "        \n",
    "    df = df.reset_index()    \n",
    "    main_dict = {}\n",
    "    for party in list(df['other_party'].value_counts().index):\n",
    "        temp_df = df[df['other_party'] == party].copy()\n",
    "        temp_df['time_since_last_trans_party'] = temp_df['datetime'] - temp_df['datetime'].shift()        \n",
    "        temp_df = temp_df.reset_index()\n",
    "        pos_dict = pd.Series(temp_df['time_since_last_trans_party'].values, index = temp_df['index'])\n",
    "        main_dict.update(pos_dict)\n",
    "    df['time_since_last_trans_party'] = df['index'].map(main_dict)\n",
    "    #print(df.columns)\n",
    "    #print(df)\n",
    "    \n",
    "    \n",
    "    # Select only Regular payments\n",
    "    df_reg = df.loc[df['type'] == 'regular']\n",
    "    parties = df_reg['other_party'].unique()\n",
    "    reg_dict = {}\n",
    "    for party in parties:    \n",
    "        df_p = df_reg.loc[df_reg['other_party'] == party]\n",
    "        \n",
    "        amounts = list(df_p['amount'].value_counts().index)  \n",
    "        amounts = [float(x) for x in amounts]\n",
    "        avg_amount = sum(amounts)/len(amounts)\n",
    "        #print(avg_amount)\n",
    "        \n",
    "        gaps = list(df_p['time_since_last_trans_party'].value_counts().index)        \n",
    "        #print(gaps)\n",
    "        if len(gaps) > 0:\n",
    "            gaps = [x.days for x in gaps if len(gaps) > 0]\n",
    "           # print(party)\n",
    "            #print(gaps)\n",
    "            avg_gap = int(sum(gaps)/len(gaps))\n",
    "            reg_dict.update({party:[avg_gap,avg_amount]})\n",
    "        \n",
    "            #print(avg_gap)\n",
    "        else:\n",
    "            avg_gap = None\n",
    "        \n",
    "    return reg_dict\n",
    "    "
   ]
  },
  {
   "cell_type": "code",
   "execution_count": 243,
   "id": "systematic-roberts",
   "metadata": {},
   "outputs": [
    {
     "data": {
      "text/plain": [
       "{'ESB': [30, -200.0],\n",
       " 'Pharmacy': [6, -30.0],\n",
       " 'Rent': [29, -1200.0],\n",
       " 'Vodafone': [30, -49.99],\n",
       " 'Dr Zeuss': [67, -100.0],\n",
       " 'ACME Corp.': [30, 2500.0]}"
      ]
     },
     "execution_count": 243,
     "metadata": {},
     "output_type": "execute_result"
    }
   ],
   "source": [
    "reg_pay(mock_df)"
   ]
  },
  {
   "cell_type": "code",
   "execution_count": 261,
   "id": "powerful-stuff",
   "metadata": {},
   "outputs": [],
   "source": [
    "def reg_pay_updated(df):\n",
    "    df['dates'] = pd.to_datetime(df['dates'])\n",
    "        \n",
    "    df = df.reset_index()    \n",
    "    main_dict = {}\n",
    "    for party in list(df['other_account_name'].value_counts().index):\n",
    "        temp_df = df[df['other_account_name'] == party].copy()\n",
    "        temp_df['time_since_last_trans_party'] = temp_df['dates'] - temp_df['dates'].shift()        \n",
    "        temp_df = temp_df.reset_index()\n",
    "        pos_dict = pd.Series(temp_df['time_since_last_trans_party'].values, index = temp_df['index'])\n",
    "        main_dict.update(pos_dict)\n",
    "    df['time_since_last_trans_party'] = df['index'].map(main_dict)    \n",
    "    \n",
    "    # Select only Regular payments\n",
    "    df_reg = df.loc[df['Type'] == 'Regular']\n",
    "    parties = df_reg['other_account_name'].unique()\n",
    "    reg_dict = {}\n",
    "    for party in parties:    \n",
    "        df_p = df_reg.loc[df_reg['other_account_name'] == party]\n",
    "        gaps = list(df_p['time_since_last_trans_party'].value_counts().index)                \n",
    "        if len(gaps) > 0:\n",
    "            gaps = [x.days for x in gaps if len(gaps) > 0]           \n",
    "            avg_gap = int(sum(gaps)/len(gaps))        \n",
    "        else:\n",
    "            avg_gap = None\n",
    "        \n",
    "        amounts = list(df_p['amount'].value_counts().index)  \n",
    "        amounts = [float(x) for x in amounts]\n",
    "        avg_amount = sum(amounts)/len(amounts)        \n",
    "        \n",
    "        reg_dict.update({party:[avg_gap,round(avg_amount,2)]})\n",
    "        \n",
    "    return reg_dict"
   ]
  },
  {
   "cell_type": "code",
   "execution_count": 246,
   "id": "spiritual-central",
   "metadata": {},
   "outputs": [],
   "source": [
    "new_df = pd.read_csv('gs://shakingshamrocks_eu/test_data_3_sec.csv')"
   ]
  },
  {
   "cell_type": "code",
   "execution_count": 247,
   "id": "simplified-scope",
   "metadata": {},
   "outputs": [],
   "source": [
    "new_df = new_df.drop(df.columns[0],axis = 1)"
   ]
  },
  {
   "cell_type": "code",
   "execution_count": 262,
   "id": "representative-incentive",
   "metadata": {},
   "outputs": [
    {
     "data": {
      "text/plain": [
       "{'Wages MyOrg': [14, 2450.0],\n",
       " 'Medical Subscription': [14, -115.0],\n",
       " 'Medical Session': [29, -200.0],\n",
       " 'Car': [14, -290.0],\n",
       " 'Utilities': [29, -242.36],\n",
       " 'Rent - apt 12': [14, -1350.0],\n",
       " 'Phone': [14, -19.0],\n",
       " 'Subscription': [14, -52.5]}"
      ]
     },
     "execution_count": 262,
     "metadata": {},
     "output_type": "execute_result"
    }
   ],
   "source": [
    "reg_pay_updated(new_df)"
   ]
  },
  {
   "cell_type": "code",
   "execution_count": null,
   "id": "floating-orlando",
   "metadata": {},
   "outputs": [],
   "source": []
  },
  {
   "cell_type": "markdown",
   "id": "dress-marina",
   "metadata": {},
   "source": [
    "Identify regular payments per month per party"
   ]
  },
  {
   "cell_type": "code",
   "execution_count": 75,
   "id": "descending-premium",
   "metadata": {},
   "outputs": [],
   "source": [
    "def id_reg(df):\n",
    "    # Select only Regular payments\n",
    "    df_reg = df.loc[df['type'] == 'regular']\n",
    "    #print('Number of rows: ',len(df_reg))\n",
    "    df_reg['month'] = df_reg['date'].apply(lambda x: x[5:7])\n",
    "    #print(df_reg)\n",
    "    months = df_reg['month'].unique()\n",
    "    #print(months)\n",
    "    #months = sorted(list(set(list(df_reg['month'].value_counts()))))    \n",
    "    #parties = sorted(list(df_reg['other_party'].value_counts()))\n",
    "    parties = df_reg['other_party'].unique()\n",
    "    #print(parties)\n",
    "    month_dict = {}\n",
    "    for month in months:\n",
    "        #print(month)\n",
    "        party_dict = {}\n",
    "        df_m = df_reg.loc[df_reg['month'] == month]\n",
    "        #print(df_m)\n",
    "        for party in parties:\n",
    "            df_p = df_m.loc[df_m['other_party'] == party]\n",
    "            #print('Party is: ,',party)\n",
    "            #print(df_p)\n",
    "            # Subsetted data to a particular party and a particular month\n",
    "            df_p['amount'] = df_p['amount'].apply(lambda x: float(x))\n",
    "            total_amt = df_p['amount'].sum()\n",
    "            #print('total_amt: ',total_amt)\n",
    "            party_dict.update({party:total_amt})\n",
    "            #print(party_dict)\n",
    "        month_dict.update({month:party_dict})\n",
    "    \n",
    "    return month_dict\n",
    "            "
   ]
  },
  {
   "cell_type": "code",
   "execution_count": 77,
   "id": "least-subscription",
   "metadata": {},
   "outputs": [
    {
     "name": "stderr",
     "output_type": "stream",
     "text": [
      "/opt/conda/lib/python3.7/site-packages/ipykernel_launcher.py:5: SettingWithCopyWarning: \n",
      "A value is trying to be set on a copy of a slice from a DataFrame.\n",
      "Try using .loc[row_indexer,col_indexer] = value instead\n",
      "\n",
      "See the caveats in the documentation: https://pandas.pydata.org/pandas-docs/stable/user_guide/indexing.html#returning-a-view-versus-a-copy\n",
      "  \"\"\"\n",
      "/opt/conda/lib/python3.7/site-packages/ipykernel_launcher.py:24: SettingWithCopyWarning: \n",
      "A value is trying to be set on a copy of a slice from a DataFrame.\n",
      "Try using .loc[row_indexer,col_indexer] = value instead\n",
      "\n",
      "See the caveats in the documentation: https://pandas.pydata.org/pandas-docs/stable/user_guide/indexing.html#returning-a-view-versus-a-copy\n"
     ]
    }
   ],
   "source": [
    "reg_payments = id_reg(mock_df)"
   ]
  },
  {
   "cell_type": "code",
   "execution_count": 78,
   "id": "genuine-nigeria",
   "metadata": {},
   "outputs": [
    {
     "data": {
      "text/plain": [
       "3"
      ]
     },
     "execution_count": 78,
     "metadata": {},
     "output_type": "execute_result"
    }
   ],
   "source": [
    "len(reg_payments)"
   ]
  },
  {
   "cell_type": "code",
   "execution_count": 81,
   "id": "requested-crisis",
   "metadata": {},
   "outputs": [],
   "source": [
    "keys = list(reg_payments.keys())"
   ]
  },
  {
   "cell_type": "code",
   "execution_count": 82,
   "id": "seven-opportunity",
   "metadata": {},
   "outputs": [
    {
     "data": {
      "text/plain": [
       "['01', '02', '03']"
      ]
     },
     "execution_count": 82,
     "metadata": {},
     "output_type": "execute_result"
    }
   ],
   "source": [
    "keys\n"
   ]
  },
  {
   "cell_type": "code",
   "execution_count": 84,
   "id": "critical-solomon",
   "metadata": {},
   "outputs": [
    {
     "name": "stdout",
     "output_type": "stream",
     "text": [
      "01 {'ESB': -200.0, 'Pharmacy': -120.0, 'Rent': -1200.0, 'Vodafone': -49.99, 'Dr Zeuss': -100.0, 'ACME Corp.': 2500.0}\n",
      "02 {'ESB': -200.0, 'Pharmacy': -120.0, 'Rent': -1200.0, 'Vodafone': -49.99, 'Dr Zeuss': 0.0, 'ACME Corp.': 2500.0}\n",
      "03 {'ESB': -200.0, 'Pharmacy': -120.0, 'Rent': -1200.0, 'Vodafone': -49.99, 'Dr Zeuss': 0.0, 'ACME Corp.': 2500.0}\n"
     ]
    }
   ],
   "source": [
    "for k,v in reg_payments.items():\n",
    "    print(k,v)"
   ]
  },
  {
   "cell_type": "code",
   "execution_count": 97,
   "id": "local-divide",
   "metadata": {},
   "outputs": [],
   "source": [
    "def convert_to_mins(val):\n",
    "    try:\n",
    "        return(int((val.total_seconds()/60)))\n",
    "    except ValueError:\n",
    "        return np.nan"
   ]
  },
  {
   "cell_type": "code",
   "execution_count": 103,
   "id": "meaning-ending",
   "metadata": {},
   "outputs": [],
   "source": [
    "mock_df['datetime'] =mock_df['date'] + \" \"+ mock_df['time']"
   ]
  },
  {
   "cell_type": "code",
   "execution_count": 108,
   "id": "descending-blend",
   "metadata": {},
   "outputs": [],
   "source": [
    "#time since last transaction in mins\n",
    "mock_df.dtypes\n",
    "#mock_df['datetime'] = mock_df['datetime'].apply(lambda x: datetime.datetime.strptime(x, '%Y-%m-%d %H:%M'))\n",
    "mock_df['time_since_last_transaction'] = mock_df['datetime'] - mock_df['datetime'].shift()\n",
    "mock_df['time_since_last_transaction']= mock_df['time_since_last_transaction'].apply(lambda x: convert_to_mins(x))"
   ]
  },
  {
   "cell_type": "code",
   "execution_count": 109,
   "id": "narrow-college",
   "metadata": {},
   "outputs": [
    {
     "data": {
      "text/html": [
       "<div>\n",
       "<style scoped>\n",
       "    .dataframe tbody tr th:only-of-type {\n",
       "        vertical-align: middle;\n",
       "    }\n",
       "\n",
       "    .dataframe tbody tr th {\n",
       "        vertical-align: top;\n",
       "    }\n",
       "\n",
       "    .dataframe thead th {\n",
       "        text-align: right;\n",
       "    }\n",
       "</style>\n",
       "<table border=\"1\" class=\"dataframe\">\n",
       "  <thead>\n",
       "    <tr style=\"text-align: right;\">\n",
       "      <th></th>\n",
       "      <th>type</th>\n",
       "      <th>date</th>\n",
       "      <th>time</th>\n",
       "      <th>amount</th>\n",
       "      <th>balance</th>\n",
       "      <th>other_party</th>\n",
       "      <th>datetime</th>\n",
       "      <th>time_since_last_transaction</th>\n",
       "    </tr>\n",
       "  </thead>\n",
       "  <tbody>\n",
       "    <tr>\n",
       "      <th>0</th>\n",
       "      <td>regular</td>\n",
       "      <td>2020-01-05</td>\n",
       "      <td>14:25</td>\n",
       "      <td>-200.00</td>\n",
       "      <td>5470.00</td>\n",
       "      <td>ESB</td>\n",
       "      <td>2020-01-05 14:25:00</td>\n",
       "      <td>NaN</td>\n",
       "    </tr>\n",
       "    <tr>\n",
       "      <th>1</th>\n",
       "      <td>regular</td>\n",
       "      <td>2020-01-07</td>\n",
       "      <td>10:36</td>\n",
       "      <td>-30.00</td>\n",
       "      <td>5270.00</td>\n",
       "      <td>Pharmacy</td>\n",
       "      <td>2020-01-07 10:36:00</td>\n",
       "      <td>2651.0</td>\n",
       "    </tr>\n",
       "    <tr>\n",
       "      <th>2</th>\n",
       "      <td>irregular</td>\n",
       "      <td>2020-01-08</td>\n",
       "      <td>12:17</td>\n",
       "      <td>-98.46</td>\n",
       "      <td>5240.00</td>\n",
       "      <td>Tesco</td>\n",
       "      <td>2020-01-08 12:17:00</td>\n",
       "      <td>1541.0</td>\n",
       "    </tr>\n",
       "    <tr>\n",
       "      <th>3</th>\n",
       "      <td>regular</td>\n",
       "      <td>2020-01-12</td>\n",
       "      <td>10:23</td>\n",
       "      <td>-1200.00</td>\n",
       "      <td>4040.00</td>\n",
       "      <td>Rent</td>\n",
       "      <td>2020-01-12 10:23:00</td>\n",
       "      <td>5646.0</td>\n",
       "    </tr>\n",
       "    <tr>\n",
       "      <th>4</th>\n",
       "      <td>irregular</td>\n",
       "      <td>2020-01-13</td>\n",
       "      <td>11:30</td>\n",
       "      <td>-67.42</td>\n",
       "      <td>3972.58</td>\n",
       "      <td>Tesco</td>\n",
       "      <td>2020-01-13 11:30:00</td>\n",
       "      <td>1507.0</td>\n",
       "    </tr>\n",
       "  </tbody>\n",
       "</table>\n",
       "</div>"
      ],
      "text/plain": [
       "        type        date   time    amount  balance other_party  \\\n",
       "0    regular  2020-01-05  14:25   -200.00  5470.00         ESB   \n",
       "1    regular  2020-01-07  10:36    -30.00  5270.00    Pharmacy   \n",
       "2  irregular  2020-01-08  12:17    -98.46  5240.00       Tesco   \n",
       "3    regular  2020-01-12  10:23  -1200.00  4040.00        Rent   \n",
       "4  irregular  2020-01-13  11:30    -67.42  3972.58       Tesco   \n",
       "\n",
       "             datetime  time_since_last_transaction  \n",
       "0 2020-01-05 14:25:00                          NaN  \n",
       "1 2020-01-07 10:36:00                       2651.0  \n",
       "2 2020-01-08 12:17:00                       1541.0  \n",
       "3 2020-01-12 10:23:00                       5646.0  \n",
       "4 2020-01-13 11:30:00                       1507.0  "
      ]
     },
     "execution_count": 109,
     "metadata": {},
     "output_type": "execute_result"
    }
   ],
   "source": [
    "mock_df.head()"
   ]
  },
  {
   "cell_type": "code",
   "execution_count": 110,
   "id": "successful-skill",
   "metadata": {},
   "outputs": [],
   "source": [
    "mock_df = mock_df.reset_index()"
   ]
  },
  {
   "cell_type": "code",
   "execution_count": 111,
   "id": "equivalent-aruba",
   "metadata": {},
   "outputs": [],
   "source": [
    "#time since last transaction in 'other party'\n",
    "main_dict = {}\n",
    "for party in list(mock_df['other_party'].value_counts().index):\n",
    "    temp_df = mock_df[mock_df['other_party'] == party].copy()\n",
    "    temp_df['time_since_last_trans_party'] = temp_df['datetime'] - temp_df['datetime'].shift()\n",
    "    pos_dict = pd.Series(temp_df['time_since_last_trans_party'].values, index = temp_df['index'])\n",
    "    main_dict.update(pos_dict)\n",
    "mock_df['time_since_last_trans_party'] = mock_df['index'].map(main_dict)"
   ]
  },
  {
   "cell_type": "code",
   "execution_count": 112,
   "id": "applied-rogers",
   "metadata": {},
   "outputs": [
    {
     "data": {
      "text/html": [
       "<div>\n",
       "<style scoped>\n",
       "    .dataframe tbody tr th:only-of-type {\n",
       "        vertical-align: middle;\n",
       "    }\n",
       "\n",
       "    .dataframe tbody tr th {\n",
       "        vertical-align: top;\n",
       "    }\n",
       "\n",
       "    .dataframe thead th {\n",
       "        text-align: right;\n",
       "    }\n",
       "</style>\n",
       "<table border=\"1\" class=\"dataframe\">\n",
       "  <thead>\n",
       "    <tr style=\"text-align: right;\">\n",
       "      <th></th>\n",
       "      <th>index</th>\n",
       "      <th>type</th>\n",
       "      <th>date</th>\n",
       "      <th>time</th>\n",
       "      <th>amount</th>\n",
       "      <th>balance</th>\n",
       "      <th>other_party</th>\n",
       "      <th>datetime</th>\n",
       "      <th>time_since_last_transaction</th>\n",
       "      <th>time_since_last_trans_party</th>\n",
       "    </tr>\n",
       "  </thead>\n",
       "  <tbody>\n",
       "    <tr>\n",
       "      <th>0</th>\n",
       "      <td>0</td>\n",
       "      <td>regular</td>\n",
       "      <td>2020-01-05</td>\n",
       "      <td>14:25</td>\n",
       "      <td>-200.00</td>\n",
       "      <td>5470.00</td>\n",
       "      <td>ESB</td>\n",
       "      <td>2020-01-05 14:25:00</td>\n",
       "      <td>NaN</td>\n",
       "      <td>NaT</td>\n",
       "    </tr>\n",
       "    <tr>\n",
       "      <th>1</th>\n",
       "      <td>1</td>\n",
       "      <td>regular</td>\n",
       "      <td>2020-01-07</td>\n",
       "      <td>10:36</td>\n",
       "      <td>-30.00</td>\n",
       "      <td>5270.00</td>\n",
       "      <td>Pharmacy</td>\n",
       "      <td>2020-01-07 10:36:00</td>\n",
       "      <td>2651.0</td>\n",
       "      <td>NaT</td>\n",
       "    </tr>\n",
       "    <tr>\n",
       "      <th>2</th>\n",
       "      <td>2</td>\n",
       "      <td>irregular</td>\n",
       "      <td>2020-01-08</td>\n",
       "      <td>12:17</td>\n",
       "      <td>-98.46</td>\n",
       "      <td>5240.00</td>\n",
       "      <td>Tesco</td>\n",
       "      <td>2020-01-08 12:17:00</td>\n",
       "      <td>1541.0</td>\n",
       "      <td>NaT</td>\n",
       "    </tr>\n",
       "    <tr>\n",
       "      <th>3</th>\n",
       "      <td>3</td>\n",
       "      <td>regular</td>\n",
       "      <td>2020-01-12</td>\n",
       "      <td>10:23</td>\n",
       "      <td>-1200.00</td>\n",
       "      <td>4040.00</td>\n",
       "      <td>Rent</td>\n",
       "      <td>2020-01-12 10:23:00</td>\n",
       "      <td>5646.0</td>\n",
       "      <td>NaT</td>\n",
       "    </tr>\n",
       "    <tr>\n",
       "      <th>4</th>\n",
       "      <td>4</td>\n",
       "      <td>irregular</td>\n",
       "      <td>2020-01-13</td>\n",
       "      <td>11:30</td>\n",
       "      <td>-67.42</td>\n",
       "      <td>3972.58</td>\n",
       "      <td>Tesco</td>\n",
       "      <td>2020-01-13 11:30:00</td>\n",
       "      <td>1507.0</td>\n",
       "      <td>4 days 23:13:00</td>\n",
       "    </tr>\n",
       "  </tbody>\n",
       "</table>\n",
       "</div>"
      ],
      "text/plain": [
       "   index       type        date   time    amount  balance other_party  \\\n",
       "0      0    regular  2020-01-05  14:25   -200.00  5470.00         ESB   \n",
       "1      1    regular  2020-01-07  10:36    -30.00  5270.00    Pharmacy   \n",
       "2      2  irregular  2020-01-08  12:17    -98.46  5240.00       Tesco   \n",
       "3      3    regular  2020-01-12  10:23  -1200.00  4040.00        Rent   \n",
       "4      4  irregular  2020-01-13  11:30    -67.42  3972.58       Tesco   \n",
       "\n",
       "             datetime  time_since_last_transaction time_since_last_trans_party  \n",
       "0 2020-01-05 14:25:00                          NaN                         NaT  \n",
       "1 2020-01-07 10:36:00                       2651.0                         NaT  \n",
       "2 2020-01-08 12:17:00                       1541.0                         NaT  \n",
       "3 2020-01-12 10:23:00                       5646.0                         NaT  \n",
       "4 2020-01-13 11:30:00                       1507.0             4 days 23:13:00  "
      ]
     },
     "execution_count": 112,
     "metadata": {},
     "output_type": "execute_result"
    }
   ],
   "source": [
    "mock_df.head()"
   ]
  },
  {
   "cell_type": "code",
   "execution_count": null,
   "id": "controlled-inflation",
   "metadata": {},
   "outputs": [],
   "source": [
    "mock_df['time_since_last_trans_party']= mock_df['time_since_last_trans_party'].apply(lambda x: convert_to_mins(x))"
   ]
  },
  {
   "cell_type": "code",
   "execution_count": null,
   "id": "higher-forty",
   "metadata": {},
   "outputs": [],
   "source": []
  },
  {
   "cell_type": "code",
   "execution_count": null,
   "id": "utility-celtic",
   "metadata": {},
   "outputs": [],
   "source": []
  },
  {
   "cell_type": "code",
   "execution_count": 85,
   "id": "filled-jaguar",
   "metadata": {},
   "outputs": [],
   "source": [
    "df = pd.read_csv('gs://shakingshamrocks_eu/test_data_2.csv')"
   ]
  },
  {
   "cell_type": "code",
   "execution_count": 88,
   "id": "attended-shelter",
   "metadata": {},
   "outputs": [
    {
     "data": {
      "text/plain": [
       "Maria Bush       239\n",
       "Susan Schultz    225\n",
       "Name: account_name, dtype: int64"
      ]
     },
     "execution_count": 88,
     "metadata": {},
     "output_type": "execute_result"
    }
   ],
   "source": [
    "df['account_name'].value_counts()"
   ]
  },
  {
   "cell_type": "code",
   "execution_count": null,
   "id": "german-delta",
   "metadata": {},
   "outputs": [],
   "source": []
  },
  {
   "cell_type": "code",
   "execution_count": null,
   "id": "alternate-reggae",
   "metadata": {},
   "outputs": [],
   "source": []
  }
 ],
 "metadata": {
  "environment": {
   "name": "common-cpu.mnightly-2021-02-12-debian-10-test",
   "type": "gcloud",
   "uri": "gcr.io/deeplearning-platform-release/base-cpu:mnightly-2021-02-12-debian-10-test"
  },
  "kernelspec": {
   "display_name": "Python 3",
   "language": "python",
   "name": "python3"
  },
  "language_info": {
   "codemirror_mode": {
    "name": "ipython",
    "version": 3
   },
   "file_extension": ".py",
   "mimetype": "text/x-python",
   "name": "python",
   "nbconvert_exporter": "python",
   "pygments_lexer": "ipython3",
   "version": "3.7.9"
  }
 },
 "nbformat": 4,
 "nbformat_minor": 5
}

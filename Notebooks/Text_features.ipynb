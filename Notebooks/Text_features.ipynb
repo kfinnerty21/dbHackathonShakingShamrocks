{
 "cells": [
  {
   "cell_type": "code",
   "execution_count": 200,
   "id": "traditional-sheffield",
   "metadata": {},
   "outputs": [],
   "source": [
    "import pandas as pd\n",
    "import sklearn\n",
    "import datetime\n",
    "import numpy as np\n",
    "\n",
    "\n",
    "import numpy as np\n",
    "\n",
    "from sklearn.compose import ColumnTransformer\n",
    "from sklearn.datasets import fetch_openml\n",
    "from sklearn.pipeline import Pipeline\n",
    "from sklearn.impute import SimpleImputer\n",
    "from sklearn.preprocessing import StandardScaler, OneHotEncoder\n",
    "from sklearn.linear_model import LogisticRegression\n",
    "from sklearn.model_selection import train_test_split, GridSearchCV\n",
    "from sklearn.cluster import DBSCAN\n",
    "\n",
    "import pandas as pd\n",
    "\n",
    "from sklearn.tree import DecisionTreeClassifier"
   ]
  },
  {
   "cell_type": "code",
   "execution_count": 76,
   "id": "logical-physiology",
   "metadata": {},
   "outputs": [],
   "source": [
    "df = pd.read_csv('gs://shakingshamrocks_eu/test_data_3_sec.csv')"
   ]
  },
  {
   "cell_type": "code",
   "execution_count": 77,
   "id": "finite-decline",
   "metadata": {},
   "outputs": [],
   "source": [
    "df['datetime'] = df['dates'].apply(lambda x: datetime.datetime.strptime(x, '%Y-%m-%d %H:%M:%S'))"
   ]
  },
  {
   "cell_type": "code",
   "execution_count": 78,
   "id": "standing-columbia",
   "metadata": {},
   "outputs": [],
   "source": [
    "def convert_to_mins(val):\n",
    "    try:\n",
    "        return(int((val.total_seconds()/60)))\n",
    "    except ValueError:\n",
    "        return np.nan"
   ]
  },
  {
   "cell_type": "code",
   "execution_count": 79,
   "id": "equal-utilization",
   "metadata": {},
   "outputs": [],
   "source": [
    "df['time_since_last_transaction'] = df['datetime'] - df['datetime'].shift()\n",
    "df['time_since_last_transaction']= df['time_since_last_transaction'].apply(lambda x: convert_to_mins(x))"
   ]
  },
  {
   "cell_type": "code",
   "execution_count": 80,
   "id": "familiar-valuable",
   "metadata": {},
   "outputs": [],
   "source": [
    "df = df.reset_index()"
   ]
  },
  {
   "cell_type": "code",
   "execution_count": 81,
   "id": "metric-victory",
   "metadata": {},
   "outputs": [],
   "source": [
    "#time since last transaction in 'other party'\n",
    "main_dict = {}\n",
    "for party in list(df['other_account_name'].value_counts().index):\n",
    "    temp_df = df[df['other_account_name'] == party].copy()\n",
    "    temp_df['time_since_last_trans_party'] = temp_df['datetime'] - temp_df['datetime'].shift()\n",
    "    pos_dict = pd.Series(temp_df['time_since_last_trans_party'].values, index = temp_df['index'])\n",
    "    main_dict.update(pos_dict)\n",
    "df['time_since_last_transaction_party'] = df['index'].map(main_dict)\n",
    "df['time_since_last_transaction_party']= df['time_since_last_transaction_party'].apply(lambda x: convert_to_mins(x))"
   ]
  },
  {
   "cell_type": "markdown",
   "id": "daily-snowboard",
   "metadata": {},
   "source": [
    "## Clustering"
   ]
  },
  {
   "cell_type": "code",
   "execution_count": 84,
   "id": "descending-textbook",
   "metadata": {},
   "outputs": [
    {
     "name": "stderr",
     "output_type": "stream",
     "text": [
      "/opt/conda/lib/python3.7/site-packages/ipykernel_launcher.py:2: SettingWithCopyWarning: \n",
      "A value is trying to be set on a copy of a slice from a DataFrame.\n",
      "Try using .loc[row_indexer,col_indexer] = value instead\n",
      "\n",
      "See the caveats in the documentation: https://pandas.pydata.org/pandas-docs/stable/user_guide/indexing.html#returning-a-view-versus-a-copy\n",
      "  \n"
     ]
    },
    {
     "data": {
      "text/html": [
       "<div>\n",
       "<style scoped>\n",
       "    .dataframe tbody tr th:only-of-type {\n",
       "        vertical-align: middle;\n",
       "    }\n",
       "\n",
       "    .dataframe tbody tr th {\n",
       "        vertical-align: top;\n",
       "    }\n",
       "\n",
       "    .dataframe thead th {\n",
       "        text-align: right;\n",
       "    }\n",
       "</style>\n",
       "<table border=\"1\" class=\"dataframe\">\n",
       "  <thead>\n",
       "    <tr style=\"text-align: right;\">\n",
       "      <th></th>\n",
       "      <th>index</th>\n",
       "      <th>Unnamed: 0</th>\n",
       "      <th>dates</th>\n",
       "      <th>account_name</th>\n",
       "      <th>account_IBAN</th>\n",
       "      <th>other_account_name</th>\n",
       "      <th>Type</th>\n",
       "      <th>amount</th>\n",
       "      <th>balance</th>\n",
       "      <th>datetime</th>\n",
       "      <th>time_since_last_transaction</th>\n",
       "      <th>time_since_last_transaction_party</th>\n",
       "      <th>day</th>\n",
       "    </tr>\n",
       "  </thead>\n",
       "  <tbody>\n",
       "    <tr>\n",
       "      <th>1</th>\n",
       "      <td>1</td>\n",
       "      <td>1</td>\n",
       "      <td>2018-02-20 09:39:57</td>\n",
       "      <td>Michele Powell</td>\n",
       "      <td>DWWX82426529885227</td>\n",
       "      <td>Wages MyOrg</td>\n",
       "      <td>Regular</td>\n",
       "      <td>2600.000000</td>\n",
       "      <td>4900.000000</td>\n",
       "      <td>2018-02-20 09:39:57</td>\n",
       "      <td>7135.0</td>\n",
       "      <td>7135.0</td>\n",
       "      <td>20</td>\n",
       "    </tr>\n",
       "    <tr>\n",
       "      <th>3</th>\n",
       "      <td>3</td>\n",
       "      <td>3</td>\n",
       "      <td>2018-02-28 04:12:07</td>\n",
       "      <td>Michele Powell</td>\n",
       "      <td>DWWX82426529885227</td>\n",
       "      <td>Medical Subscription</td>\n",
       "      <td>Regular</td>\n",
       "      <td>-150.000000</td>\n",
       "      <td>4530.358998</td>\n",
       "      <td>2018-02-28 04:12:07</td>\n",
       "      <td>3782.0</td>\n",
       "      <td>NaN</td>\n",
       "      <td>28</td>\n",
       "    </tr>\n",
       "    <tr>\n",
       "      <th>5</th>\n",
       "      <td>5</td>\n",
       "      <td>5</td>\n",
       "      <td>2018-02-28 07:50:49</td>\n",
       "      <td>Michele Powell</td>\n",
       "      <td>DWWX82426529885227</td>\n",
       "      <td>Food Reg</td>\n",
       "      <td>Irregular</td>\n",
       "      <td>-296.297669</td>\n",
       "      <td>4154.061329</td>\n",
       "      <td>2018-02-28 07:50:49</td>\n",
       "      <td>37.0</td>\n",
       "      <td>4000.0</td>\n",
       "      <td>28</td>\n",
       "    </tr>\n",
       "    <tr>\n",
       "      <th>7</th>\n",
       "      <td>7</td>\n",
       "      <td>7</td>\n",
       "      <td>2018-02-28 08:05:12</td>\n",
       "      <td>Michele Powell</td>\n",
       "      <td>DWWX82426529885227</td>\n",
       "      <td>Car</td>\n",
       "      <td>Regular</td>\n",
       "      <td>-250.000000</td>\n",
       "      <td>3704.061329</td>\n",
       "      <td>2018-02-28 08:05:12</td>\n",
       "      <td>0.0</td>\n",
       "      <td>NaN</td>\n",
       "      <td>28</td>\n",
       "    </tr>\n",
       "    <tr>\n",
       "      <th>8</th>\n",
       "      <td>8</td>\n",
       "      <td>8</td>\n",
       "      <td>2018-02-28 08:19:49</td>\n",
       "      <td>Michele Powell</td>\n",
       "      <td>DWWX82426529885227</td>\n",
       "      <td>Medical Session</td>\n",
       "      <td>Regular</td>\n",
       "      <td>-200.000000</td>\n",
       "      <td>3504.061329</td>\n",
       "      <td>2018-02-28 08:19:49</td>\n",
       "      <td>14.0</td>\n",
       "      <td>14.0</td>\n",
       "      <td>28</td>\n",
       "    </tr>\n",
       "  </tbody>\n",
       "</table>\n",
       "</div>"
      ],
      "text/plain": [
       "   index  Unnamed: 0                dates    account_name        account_IBAN  \\\n",
       "1      1           1  2018-02-20 09:39:57  Michele Powell  DWWX82426529885227   \n",
       "3      3           3  2018-02-28 04:12:07  Michele Powell  DWWX82426529885227   \n",
       "5      5           5  2018-02-28 07:50:49  Michele Powell  DWWX82426529885227   \n",
       "7      7           7  2018-02-28 08:05:12  Michele Powell  DWWX82426529885227   \n",
       "8      8           8  2018-02-28 08:19:49  Michele Powell  DWWX82426529885227   \n",
       "\n",
       "     other_account_name       Type       amount      balance  \\\n",
       "1           Wages MyOrg    Regular  2600.000000  4900.000000   \n",
       "3  Medical Subscription    Regular  -150.000000  4530.358998   \n",
       "5              Food Reg  Irregular  -296.297669  4154.061329   \n",
       "7                   Car    Regular  -250.000000  3704.061329   \n",
       "8       Medical Session    Regular  -200.000000  3504.061329   \n",
       "\n",
       "             datetime  time_since_last_transaction  \\\n",
       "1 2018-02-20 09:39:57                       7135.0   \n",
       "3 2018-02-28 04:12:07                       3782.0   \n",
       "5 2018-02-28 07:50:49                         37.0   \n",
       "7 2018-02-28 08:05:12                          0.0   \n",
       "8 2018-02-28 08:19:49                         14.0   \n",
       "\n",
       "   time_since_last_transaction_party  day  \n",
       "1                             7135.0   20  \n",
       "3                                NaN   28  \n",
       "5                             4000.0   28  \n",
       "7                                NaN   28  \n",
       "8                               14.0   28  "
      ]
     },
     "execution_count": 84,
     "metadata": {},
     "output_type": "execute_result"
    }
   ],
   "source": [
    "df_test = df[df['account_name'] == 'Michele Powell']\n",
    "df_test['day'] = pd.to_datetime(df_test.dates).dt.day\n",
    "df_test.head()"
   ]
  },
  {
   "cell_type": "code",
   "execution_count": 203,
   "id": "isolated-headset",
   "metadata": {},
   "outputs": [],
   "source": [
    "numeric_features = ['amount', 'day', \"time_since_last_transaction\", \"time_since_last_transaction_party\"]\n",
    "numeric_transformer = Pipeline(steps=[\n",
    "    ('imputer', SimpleImputer(strategy='constant')),\n",
    "    ('scaler', StandardScaler())])\n",
    "# account name used as dummy feature\n",
    "categorical_features = ['account_name']\n",
    "categorical_transformer = OneHotEncoder(handle_unknown='ignore')\n"
   ]
  },
  {
   "cell_type": "code",
   "execution_count": 204,
   "id": "confirmed-macro",
   "metadata": {},
   "outputs": [],
   "source": [
    "preprocessor = ColumnTransformer(\n",
    "    transformers=[\n",
    "        ('num', numeric_transformer, numeric_features),\n",
    "        ('cat', categorical_transformer, categorical_features)])\n",
    "\n",
    "clf = Pipeline(steps=[('preprocessor', preprocessor),\n",
    "                      ('cluster', DBSCAN(1, min_samples = 5))])"
   ]
  },
  {
   "cell_type": "code",
   "execution_count": 205,
   "id": "mature-universal",
   "metadata": {},
   "outputs": [
    {
     "name": "stderr",
     "output_type": "stream",
     "text": [
      "/opt/conda/lib/python3.7/site-packages/ipykernel_launcher.py:3: SettingWithCopyWarning: \n",
      "A value is trying to be set on a copy of a slice from a DataFrame.\n",
      "Try using .loc[row_indexer,col_indexer] = value instead\n",
      "\n",
      "See the caveats in the documentation: https://pandas.pydata.org/pandas-docs/stable/user_guide/indexing.html#returning-a-view-versus-a-copy\n",
      "  This is separate from the ipykernel package so we can avoid doing imports until\n"
     ]
    }
   ],
   "source": [
    "prediction = clf.fit_predict(df_test)\n",
    "\n",
    "df_test['prediction'] = prediction"
   ]
  },
  {
   "cell_type": "code",
   "execution_count": 207,
   "id": "silver-setup",
   "metadata": {},
   "outputs": [
    {
     "data": {
      "text/html": [
       "<div>\n",
       "<style scoped>\n",
       "    .dataframe tbody tr th:only-of-type {\n",
       "        vertical-align: middle;\n",
       "    }\n",
       "\n",
       "    .dataframe tbody tr th {\n",
       "        vertical-align: top;\n",
       "    }\n",
       "\n",
       "    .dataframe thead th {\n",
       "        text-align: right;\n",
       "    }\n",
       "</style>\n",
       "<table border=\"1\" class=\"dataframe\">\n",
       "  <thead>\n",
       "    <tr style=\"text-align: right;\">\n",
       "      <th></th>\n",
       "      <th>index</th>\n",
       "      <th>Unnamed: 0</th>\n",
       "      <th>dates</th>\n",
       "      <th>account_name</th>\n",
       "      <th>account_IBAN</th>\n",
       "      <th>other_account_name</th>\n",
       "      <th>Type</th>\n",
       "      <th>amount</th>\n",
       "      <th>balance</th>\n",
       "      <th>datetime</th>\n",
       "      <th>time_since_last_transaction</th>\n",
       "      <th>time_since_last_transaction_party</th>\n",
       "      <th>day</th>\n",
       "      <th>prediction</th>\n",
       "    </tr>\n",
       "  </thead>\n",
       "  <tbody>\n",
       "    <tr>\n",
       "      <th>205</th>\n",
       "      <td>205</td>\n",
       "      <td>205</td>\n",
       "      <td>2018-08-28 00:11:15</td>\n",
       "      <td>Michele Powell</td>\n",
       "      <td>DWWX82426529885227</td>\n",
       "      <td>and Sons</td>\n",
       "      <td>Discretionary</td>\n",
       "      <td>-148.194015</td>\n",
       "      <td>-8140.528489</td>\n",
       "      <td>2018-08-28 00:11:15</td>\n",
       "      <td>10833.0</td>\n",
       "      <td>162727.0</td>\n",
       "      <td>28</td>\n",
       "      <td>-1</td>\n",
       "    </tr>\n",
       "    <tr>\n",
       "      <th>314</th>\n",
       "      <td>314</td>\n",
       "      <td>314</td>\n",
       "      <td>2019-03-01 04:11:55</td>\n",
       "      <td>Michele Powell</td>\n",
       "      <td>DWWX82426529885227</td>\n",
       "      <td>Medical Subscription</td>\n",
       "      <td>Regular</td>\n",
       "      <td>-150.000000</td>\n",
       "      <td>-8780.175293</td>\n",
       "      <td>2019-03-01 04:11:55</td>\n",
       "      <td>193.0</td>\n",
       "      <td>44731.0</td>\n",
       "      <td>1</td>\n",
       "      <td>-1</td>\n",
       "    </tr>\n",
       "    <tr>\n",
       "      <th>316</th>\n",
       "      <td>316</td>\n",
       "      <td>316</td>\n",
       "      <td>2019-03-01 04:55:30</td>\n",
       "      <td>Michele Powell</td>\n",
       "      <td>DWWX82426529885227</td>\n",
       "      <td>Rent - apt 12</td>\n",
       "      <td>Regular</td>\n",
       "      <td>-1500.000000</td>\n",
       "      <td>-10330.175293</td>\n",
       "      <td>2019-03-01 04:55:30</td>\n",
       "      <td>24.0</td>\n",
       "      <td>864.0</td>\n",
       "      <td>1</td>\n",
       "      <td>-1</td>\n",
       "    </tr>\n",
       "    <tr>\n",
       "      <th>488</th>\n",
       "      <td>488</td>\n",
       "      <td>488</td>\n",
       "      <td>2020-10-31 05:58:47</td>\n",
       "      <td>Michele Powell</td>\n",
       "      <td>DWWX82426529885227</td>\n",
       "      <td>Utilities</td>\n",
       "      <td>Regular</td>\n",
       "      <td>-208.977165</td>\n",
       "      <td>-5395.300595</td>\n",
       "      <td>2020-10-31 05:58:47</td>\n",
       "      <td>86721.0</td>\n",
       "      <td>86721.0</td>\n",
       "      <td>31</td>\n",
       "      <td>-1</td>\n",
       "    </tr>\n",
       "    <tr>\n",
       "      <th>497</th>\n",
       "      <td>497</td>\n",
       "      <td>497</td>\n",
       "      <td>2021-04-30 08:51:33</td>\n",
       "      <td>Michele Powell</td>\n",
       "      <td>DWWX82426529885227</td>\n",
       "      <td>Utilities</td>\n",
       "      <td>Regular</td>\n",
       "      <td>-295.148714</td>\n",
       "      <td>-7494.116366</td>\n",
       "      <td>2021-04-30 08:51:33</td>\n",
       "      <td>87245.0</td>\n",
       "      <td>87308.0</td>\n",
       "      <td>30</td>\n",
       "      <td>-1</td>\n",
       "    </tr>\n",
       "    <tr>\n",
       "      <th>509</th>\n",
       "      <td>509</td>\n",
       "      <td>509</td>\n",
       "      <td>2021-12-31 00:42:47</td>\n",
       "      <td>Michele Powell</td>\n",
       "      <td>DWWX82426529885227</td>\n",
       "      <td>Utilities</td>\n",
       "      <td>Regular</td>\n",
       "      <td>-226.285692</td>\n",
       "      <td>-10298.037312</td>\n",
       "      <td>2021-12-31 00:42:47</td>\n",
       "      <td>86303.0</td>\n",
       "      <td>86303.0</td>\n",
       "      <td>31</td>\n",
       "      <td>-1</td>\n",
       "    </tr>\n",
       "  </tbody>\n",
       "</table>\n",
       "</div>"
      ],
      "text/plain": [
       "     index  Unnamed: 0                dates    account_name  \\\n",
       "205    205         205  2018-08-28 00:11:15  Michele Powell   \n",
       "314    314         314  2019-03-01 04:11:55  Michele Powell   \n",
       "316    316         316  2019-03-01 04:55:30  Michele Powell   \n",
       "488    488         488  2020-10-31 05:58:47  Michele Powell   \n",
       "497    497         497  2021-04-30 08:51:33  Michele Powell   \n",
       "509    509         509  2021-12-31 00:42:47  Michele Powell   \n",
       "\n",
       "           account_IBAN    other_account_name           Type       amount  \\\n",
       "205  DWWX82426529885227              and Sons  Discretionary  -148.194015   \n",
       "314  DWWX82426529885227  Medical Subscription        Regular  -150.000000   \n",
       "316  DWWX82426529885227         Rent - apt 12        Regular -1500.000000   \n",
       "488  DWWX82426529885227             Utilities        Regular  -208.977165   \n",
       "497  DWWX82426529885227             Utilities        Regular  -295.148714   \n",
       "509  DWWX82426529885227             Utilities        Regular  -226.285692   \n",
       "\n",
       "          balance            datetime  time_since_last_transaction  \\\n",
       "205  -8140.528489 2018-08-28 00:11:15                      10833.0   \n",
       "314  -8780.175293 2019-03-01 04:11:55                        193.0   \n",
       "316 -10330.175293 2019-03-01 04:55:30                         24.0   \n",
       "488  -5395.300595 2020-10-31 05:58:47                      86721.0   \n",
       "497  -7494.116366 2021-04-30 08:51:33                      87245.0   \n",
       "509 -10298.037312 2021-12-31 00:42:47                      86303.0   \n",
       "\n",
       "     time_since_last_transaction_party  day  prediction  \n",
       "205                           162727.0   28          -1  \n",
       "314                            44731.0    1          -1  \n",
       "316                              864.0    1          -1  \n",
       "488                            86721.0   31          -1  \n",
       "497                            87308.0   30          -1  \n",
       "509                            86303.0   31          -1  "
      ]
     },
     "execution_count": 207,
     "metadata": {},
     "output_type": "execute_result"
    }
   ],
   "source": [
    "df_test[df_test['prediction'] == -1]"
   ]
  },
  {
   "cell_type": "code",
   "execution_count": 199,
   "id": "thousand-secretary",
   "metadata": {},
   "outputs": [],
   "source": [
    "### Tree Model "
   ]
  },
  {
   "cell_type": "code",
   "execution_count": 210,
   "id": "pacific-sense",
   "metadata": {},
   "outputs": [],
   "source": [
    "numeric_features = ['amount', 'day', \"time_since_last_transaction\", \"time_since_last_transaction_party\"]\n",
    "numeric_transformer = Pipeline(steps=[\n",
    "    ('imputer', SimpleImputer(strategy='constant')),\n",
    "    ('scaler', StandardScaler())])\n",
    "# account name used as dummy feature\n",
    "categorical_features = ['account_name']\n",
    "categorical_transformer = OneHotEncoder(handle_unknown='ignore')"
   ]
  },
  {
   "cell_type": "code",
   "execution_count": 211,
   "id": "overall-liabilities",
   "metadata": {},
   "outputs": [],
   "source": [
    "preprocessor = ColumnTransformer(\n",
    "    transformers=[\n",
    "        ('num', numeric_transformer, numeric_features),\n",
    "        ('cat', categorical_transformer, categorical_features)])"
   ]
  },
  {
   "cell_type": "code",
   "execution_count": 212,
   "id": "manual-transcript",
   "metadata": {},
   "outputs": [],
   "source": [
    "clf = Pipeline(steps=[('preprocessor', preprocessor),\n",
    "                      ('cluster', DecisionTreeClassifier())])"
   ]
  },
  {
   "cell_type": "code",
   "execution_count": null,
   "id": "sensitive-bachelor",
   "metadata": {},
   "outputs": [],
   "source": []
  },
  {
   "cell_type": "code",
   "execution_count": null,
   "id": "fatty-founder",
   "metadata": {},
   "outputs": [],
   "source": [
    "fitted2 = clf2.fit(X_train,y_train)"
   ]
  },
  {
   "cell_type": "code",
   "execution_count": 208,
   "id": "ideal-township",
   "metadata": {},
   "outputs": [],
   "source": [
    "clf2 = DecisionTreeClassifier()"
   ]
  },
  {
   "cell_type": "code",
   "execution_count": 209,
   "id": "sudden-python",
   "metadata": {},
   "outputs": [
    {
     "ename": "NameError",
     "evalue": "name 'X_train' is not defined",
     "output_type": "error",
     "traceback": [
      "\u001b[0;31m---------------------------------------------------------------------------\u001b[0m",
      "\u001b[0;31mNameError\u001b[0m                                 Traceback (most recent call last)",
      "\u001b[0;32m<ipython-input-209-2370ed867667>\u001b[0m in \u001b[0;36m<module>\u001b[0;34m\u001b[0m\n\u001b[0;32m----> 1\u001b[0;31m \u001b[0mfitted2\u001b[0m \u001b[0;34m=\u001b[0m \u001b[0mclf2\u001b[0m\u001b[0;34m.\u001b[0m\u001b[0mfit\u001b[0m\u001b[0;34m(\u001b[0m\u001b[0mX_train\u001b[0m\u001b[0;34m,\u001b[0m\u001b[0my_train\u001b[0m\u001b[0;34m)\u001b[0m\u001b[0;34m\u001b[0m\u001b[0;34m\u001b[0m\u001b[0m\n\u001b[0m",
      "\u001b[0;31mNameError\u001b[0m: name 'X_train' is not defined"
     ]
    }
   ],
   "source": [
    "fitted2 = clf2.fit(X_train,y_train)"
   ]
  },
  {
   "cell_type": "code",
   "execution_count": null,
   "id": "daily-episode",
   "metadata": {},
   "outputs": [],
   "source": []
  },
  {
   "cell_type": "code",
   "execution_count": null,
   "id": "ultimate-beauty",
   "metadata": {},
   "outputs": [],
   "source": []
  }
 ],
 "metadata": {
  "environment": {
   "name": "common-cpu.mnightly-2021-02-12-debian-10-test",
   "type": "gcloud",
   "uri": "gcr.io/deeplearning-platform-release/base-cpu:mnightly-2021-02-12-debian-10-test"
  },
  "kernelspec": {
   "display_name": "Python 3",
   "language": "python",
   "name": "python3"
  },
  "language_info": {
   "codemirror_mode": {
    "name": "ipython",
    "version": 3
   },
   "file_extension": ".py",
   "mimetype": "text/x-python",
   "name": "python",
   "nbconvert_exporter": "python",
   "pygments_lexer": "ipython3",
   "version": "3.7.9"
  }
 },
 "nbformat": 4,
 "nbformat_minor": 5
}

{
 "cells": [
  {
   "cell_type": "markdown",
   "id": "practical-ceiling",
   "metadata": {},
   "source": [
    "### Import Packages"
   ]
  },
  {
   "cell_type": "code",
   "execution_count": 25,
   "id": "duplicate-football",
   "metadata": {},
   "outputs": [],
   "source": [
    "import datetime\n",
    "import pandas as pd"
   ]
  },
  {
   "cell_type": "markdown",
   "id": "exclusive-cabinet",
   "metadata": {},
   "source": [
    "### Read in Data"
   ]
  },
  {
   "cell_type": "code",
   "execution_count": 26,
   "id": "incorrect-japanese",
   "metadata": {},
   "outputs": [],
   "source": [
    "df = pd.read_csv(\"copy_for_mairead.csv\")"
   ]
  },
  {
   "cell_type": "code",
   "execution_count": 27,
   "id": "familiar-entry",
   "metadata": {},
   "outputs": [
    {
     "data": {
      "text/html": [
       "<div>\n",
       "<style scoped>\n",
       "    .dataframe tbody tr th:only-of-type {\n",
       "        vertical-align: middle;\n",
       "    }\n",
       "\n",
       "    .dataframe tbody tr th {\n",
       "        vertical-align: top;\n",
       "    }\n",
       "\n",
       "    .dataframe thead th {\n",
       "        text-align: right;\n",
       "    }\n",
       "</style>\n",
       "<table border=\"1\" class=\"dataframe\">\n",
       "  <thead>\n",
       "    <tr style=\"text-align: right;\">\n",
       "      <th></th>\n",
       "      <th>Unnamed: 0</th>\n",
       "      <th>transaction_id</th>\n",
       "      <th>name</th>\n",
       "      <th>iban</th>\n",
       "      <th>date_of_payment</th>\n",
       "      <th>time_of_payment</th>\n",
       "      <th>type</th>\n",
       "      <th>receiver_party</th>\n",
       "    </tr>\n",
       "  </thead>\n",
       "  <tbody>\n",
       "    <tr>\n",
       "      <th>0</th>\n",
       "      <td>0</td>\n",
       "      <td>13643</td>\n",
       "      <td>Anna Serrano</td>\n",
       "      <td>GB70KLDP02840065282222</td>\n",
       "      <td>2013-07-24</td>\n",
       "      <td>10:35:41</td>\n",
       "      <td>('regular',)</td>\n",
       "      <td>('JDSports',)</td>\n",
       "    </tr>\n",
       "    <tr>\n",
       "      <th>1</th>\n",
       "      <td>1</td>\n",
       "      <td>53027</td>\n",
       "      <td>Karen Barron</td>\n",
       "      <td>GB23VMBH34523532675926</td>\n",
       "      <td>2008-06-11</td>\n",
       "      <td>17:47:05</td>\n",
       "      <td>('regular',)</td>\n",
       "      <td>('JDSports',)</td>\n",
       "    </tr>\n",
       "    <tr>\n",
       "      <th>2</th>\n",
       "      <td>2</td>\n",
       "      <td>10738</td>\n",
       "      <td>Michelle Jackson</td>\n",
       "      <td>GB77EAAK80001992260669</td>\n",
       "      <td>2016-09-17</td>\n",
       "      <td>20:31:25</td>\n",
       "      <td>('regular',)</td>\n",
       "      <td>('Amazon',)</td>\n",
       "    </tr>\n",
       "    <tr>\n",
       "      <th>3</th>\n",
       "      <td>3</td>\n",
       "      <td>57713</td>\n",
       "      <td>Kim Jones</td>\n",
       "      <td>GB15NSVL16637636376914</td>\n",
       "      <td>1988-10-09</td>\n",
       "      <td>08:45:18</td>\n",
       "      <td>('irregular',)</td>\n",
       "      <td>('JDSports',)</td>\n",
       "    </tr>\n",
       "    <tr>\n",
       "      <th>4</th>\n",
       "      <td>4</td>\n",
       "      <td>12847</td>\n",
       "      <td>Penny Mcdowell</td>\n",
       "      <td>GB45IBTK61802606661797</td>\n",
       "      <td>1980-12-25</td>\n",
       "      <td>15:34:57</td>\n",
       "      <td>('irregular',)</td>\n",
       "      <td>('Tesco',)</td>\n",
       "    </tr>\n",
       "  </tbody>\n",
       "</table>\n",
       "</div>"
      ],
      "text/plain": [
       "   Unnamed: 0  transaction_id              name                    iban  \\\n",
       "0           0           13643      Anna Serrano  GB70KLDP02840065282222   \n",
       "1           1           53027      Karen Barron  GB23VMBH34523532675926   \n",
       "2           2           10738  Michelle Jackson  GB77EAAK80001992260669   \n",
       "3           3           57713         Kim Jones  GB15NSVL16637636376914   \n",
       "4           4           12847    Penny Mcdowell  GB45IBTK61802606661797   \n",
       "\n",
       "  date_of_payment time_of_payment            type receiver_party  \n",
       "0      2013-07-24        10:35:41    ('regular',)  ('JDSports',)  \n",
       "1      2008-06-11        17:47:05    ('regular',)  ('JDSports',)  \n",
       "2      2016-09-17        20:31:25    ('regular',)    ('Amazon',)  \n",
       "3      1988-10-09        08:45:18  ('irregular',)  ('JDSports',)  \n",
       "4      1980-12-25        15:34:57  ('irregular',)     ('Tesco',)  "
      ]
     },
     "execution_count": 27,
     "metadata": {},
     "output_type": "execute_result"
    }
   ],
   "source": [
    "df.head()"
   ]
  },
  {
   "cell_type": "code",
   "execution_count": null,
   "id": "weekly-tsunami",
   "metadata": {},
   "outputs": [],
   "source": []
  },
  {
   "cell_type": "markdown",
   "id": "thrown-scale",
   "metadata": {},
   "source": [
    "### Data Clean"
   ]
  },
  {
   "cell_type": "code",
   "execution_count": 28,
   "id": "undefined-subscriber",
   "metadata": {},
   "outputs": [],
   "source": [
    "df = df.sort_values(by = [\"date_of_payment\", \"time_of_payment\"], ascending =  [True, True])"
   ]
  },
  {
   "cell_type": "code",
   "execution_count": 29,
   "id": "vocal-eugene",
   "metadata": {},
   "outputs": [],
   "source": [
    "df = df.reset_index(drop = False)\n",
    "df = df.rename(columns = {\"index\": \"transaction_no\"})"
   ]
  },
  {
   "cell_type": "code",
   "execution_count": 30,
   "id": "attached-lodge",
   "metadata": {},
   "outputs": [],
   "source": [
    "df['datetime'] = df[\"date_of_payment\"] + \" \" + df[\"time_of_payment\"]"
   ]
  },
  {
   "cell_type": "code",
   "execution_count": 32,
   "id": "exterior-survival",
   "metadata": {},
   "outputs": [],
   "source": [
    "df['datetime'] = df['datetime'].apply(lambda x: datetime.datetime.strptime(x, '%Y-%m-%d %H:%M:%S'))"
   ]
  },
  {
   "cell_type": "markdown",
   "id": "surrounded-transaction",
   "metadata": {},
   "source": [
    "### Feature Functions"
   ]
  },
  {
   "cell_type": "markdown",
   "id": "lightweight-complaint",
   "metadata": {},
   "source": [
    "predictive column ideas\n",
    "\n",
    "- time since last transaction \n",
    "- time since last transaction of type \n",
    "- recivers\n",
    "- new transaction? "
   ]
  },
  {
   "cell_type": "code",
   "execution_count": 45,
   "id": "detected-paper",
   "metadata": {},
   "outputs": [],
   "source": [
    "df['time_since_last_transaction'] = df.datetime - df.datetime.shift(1)"
   ]
  },
  {
   "cell_type": "code",
   "execution_count": 99,
   "id": "ready-generation",
   "metadata": {},
   "outputs": [],
   "source": [
    "recivers = list(df['receiver_party'].value_counts().index)main_dict = {}\n",
    "for receiver in recivers:\n",
    "    \n",
    "    temp_df = df[df['receiver_party'] == receiver].copy()\n",
    "    temp_df['time_since_last_trans_type'] = temp_df.datetime - temp_df.datetime.shift(1)\n",
    "    temp_dict = pd.Series(temp_df['time_since_last_trans_type'].values, index = temp_df['transaction_id'].values).to_dict()\n",
    "    main_dict.update(temp_dict)\n",
    "df['time_since_last_trans_type'] = df['transaction_id'].map(main_dict)"
   ]
  },
  {
   "cell_type": "code",
   "execution_count": 100,
   "id": "opponent-dancing",
   "metadata": {},
   "outputs": [
    {
     "data": {
      "text/plain": [
       "0                  NaT\n",
       "1                  NaT\n",
       "2   7185 days 09:01:47\n",
       "3   1868 days 16:48:36\n",
       "4                  NaT\n",
       "Name: transaction_id, dtype: timedelta64[ns]"
      ]
     },
     "execution_count": 100,
     "metadata": {},
     "output_type": "execute_result"
    }
   ],
   "source": [
    "df['transaction_id'].map(main_dict)"
   ]
  },
  {
   "cell_type": "code",
   "execution_count": null,
   "id": "simple-height",
   "metadata": {},
   "outputs": [],
   "source": []
  },
  {
   "cell_type": "code",
   "execution_count": null,
   "id": "plastic-antenna",
   "metadata": {},
   "outputs": [],
   "source": []
  }
 ],
 "metadata": {
  "environment": {
   "name": "common-cu100.mnightly-2021-02-12-debian-10-test",
   "type": "gcloud",
   "uri": "gcr.io/deeplearning-platform-release/base-cu100:mnightly-2021-02-12-debian-10-test"
  },
  "kernelspec": {
   "display_name": "Python 3",
   "language": "python",
   "name": "python3"
  },
  "language_info": {
   "codemirror_mode": {
    "name": "ipython",
    "version": 3
   },
   "file_extension": ".py",
   "mimetype": "text/x-python",
   "name": "python",
   "nbconvert_exporter": "python",
   "pygments_lexer": "ipython3",
   "version": "3.7.9"
  }
 },
 "nbformat": 4,
 "nbformat_minor": 5
}
